{
 "cells": [
  {
   "cell_type": "code",
   "execution_count": 1,
   "id": "8fdf0210-a5dc-4240-b40f-fd619a0cca40",
   "metadata": {},
   "outputs": [
    {
     "data": {
      "text/html": [
       "<script src=\"https://cdnjs.cloudflare.com/ajax/libs/require.js/2.3.6/require.min.js\"></script>\n"
      ],
      "text/plain": [
       "<IPython.core.display.HTML object>"
      ]
     },
     "metadata": {},
     "output_type": "display_data"
    }
   ],
   "source": [
    "%%html\n",
    "<script src=\"https://cdnjs.cloudflare.com/ajax/libs/require.js/2.3.6/require.min.js\"></script>"
   ]
  },
  {
   "cell_type": "code",
   "execution_count": 15,
   "id": "e5327c1f-2cb5-4423-80f7-28c5da613b80",
   "metadata": {},
   "outputs": [
    {
     "data": {
      "text/html": [
       "<div>\n",
       "<style scoped>\n",
       "    .dataframe tbody tr th:only-of-type {\n",
       "        vertical-align: middle;\n",
       "    }\n",
       "\n",
       "    .dataframe tbody tr th {\n",
       "        vertical-align: top;\n",
       "    }\n",
       "\n",
       "    .dataframe thead th {\n",
       "        text-align: right;\n",
       "    }\n",
       "</style>\n",
       "<table border=\"1\" class=\"dataframe\">\n",
       "  <thead>\n",
       "    <tr style=\"text-align: right;\">\n",
       "      <th></th>\n",
       "      <th>PassengerId</th>\n",
       "      <th>Pclass</th>\n",
       "      <th>Name</th>\n",
       "      <th>Sex</th>\n",
       "      <th>Age</th>\n",
       "      <th>SibSp</th>\n",
       "      <th>Parch</th>\n",
       "      <th>Ticket</th>\n",
       "      <th>Fare</th>\n",
       "      <th>Cabin</th>\n",
       "      <th>Embarked</th>\n",
       "    </tr>\n",
       "  </thead>\n",
       "  <tbody>\n",
       "    <tr>\n",
       "      <th>0</th>\n",
       "      <td>892</td>\n",
       "      <td>3</td>\n",
       "      <td>Kelly, Mr. James</td>\n",
       "      <td>male</td>\n",
       "      <td>34.5</td>\n",
       "      <td>0</td>\n",
       "      <td>0</td>\n",
       "      <td>330911</td>\n",
       "      <td>7.8292</td>\n",
       "      <td>NaN</td>\n",
       "      <td>Q</td>\n",
       "    </tr>\n",
       "    <tr>\n",
       "      <th>1</th>\n",
       "      <td>893</td>\n",
       "      <td>3</td>\n",
       "      <td>Wilkes, Mrs. James (Ellen Needs)</td>\n",
       "      <td>female</td>\n",
       "      <td>47.0</td>\n",
       "      <td>1</td>\n",
       "      <td>0</td>\n",
       "      <td>363272</td>\n",
       "      <td>7.0000</td>\n",
       "      <td>NaN</td>\n",
       "      <td>S</td>\n",
       "    </tr>\n",
       "    <tr>\n",
       "      <th>2</th>\n",
       "      <td>894</td>\n",
       "      <td>2</td>\n",
       "      <td>Myles, Mr. Thomas Francis</td>\n",
       "      <td>male</td>\n",
       "      <td>62.0</td>\n",
       "      <td>0</td>\n",
       "      <td>0</td>\n",
       "      <td>240276</td>\n",
       "      <td>9.6875</td>\n",
       "      <td>NaN</td>\n",
       "      <td>Q</td>\n",
       "    </tr>\n",
       "    <tr>\n",
       "      <th>3</th>\n",
       "      <td>895</td>\n",
       "      <td>3</td>\n",
       "      <td>Wirz, Mr. Albert</td>\n",
       "      <td>male</td>\n",
       "      <td>27.0</td>\n",
       "      <td>0</td>\n",
       "      <td>0</td>\n",
       "      <td>315154</td>\n",
       "      <td>8.6625</td>\n",
       "      <td>NaN</td>\n",
       "      <td>S</td>\n",
       "    </tr>\n",
       "    <tr>\n",
       "      <th>4</th>\n",
       "      <td>896</td>\n",
       "      <td>3</td>\n",
       "      <td>Hirvonen, Mrs. Alexander (Helga E Lindqvist)</td>\n",
       "      <td>female</td>\n",
       "      <td>22.0</td>\n",
       "      <td>1</td>\n",
       "      <td>1</td>\n",
       "      <td>3101298</td>\n",
       "      <td>12.2875</td>\n",
       "      <td>NaN</td>\n",
       "      <td>S</td>\n",
       "    </tr>\n",
       "  </tbody>\n",
       "</table>\n",
       "</div>"
      ],
      "text/plain": [
       "   PassengerId  Pclass                                          Name     Sex  \\\n",
       "0          892       3                              Kelly, Mr. James    male   \n",
       "1          893       3              Wilkes, Mrs. James (Ellen Needs)  female   \n",
       "2          894       2                     Myles, Mr. Thomas Francis    male   \n",
       "3          895       3                              Wirz, Mr. Albert    male   \n",
       "4          896       3  Hirvonen, Mrs. Alexander (Helga E Lindqvist)  female   \n",
       "\n",
       "    Age  SibSp  Parch   Ticket     Fare Cabin Embarked  \n",
       "0  34.5      0      0   330911   7.8292   NaN        Q  \n",
       "1  47.0      1      0   363272   7.0000   NaN        S  \n",
       "2  62.0      0      0   240276   9.6875   NaN        Q  \n",
       "3  27.0      0      0   315154   8.6625   NaN        S  \n",
       "4  22.0      1      1  3101298  12.2875   NaN        S  "
      ]
     },
     "execution_count": 15,
     "metadata": {},
     "output_type": "execute_result"
    }
   ],
   "source": [
    "import pandas as pd\n",
    "\n",
    "test_data = pd.read_csv(r\"C:\\Users\\a122861569\\Desktop\\kaggle\\titanic\\test.csv\")\n",
    "train_data = pd.read_csv(r\"C:\\Users\\a122861569\\Desktop\\kaggle\\titanic\\train.csv\")\n",
    "test_data.head()\n"
   ]
  },
  {
   "cell_type": "code",
   "execution_count": 16,
   "id": "589d9627-7913-4682-aa70-4e2d255fb5cb",
   "metadata": {},
   "outputs": [
    {
     "data": {
      "text/html": [
       "<div>\n",
       "<style scoped>\n",
       "    .dataframe tbody tr th:only-of-type {\n",
       "        vertical-align: middle;\n",
       "    }\n",
       "\n",
       "    .dataframe tbody tr th {\n",
       "        vertical-align: top;\n",
       "    }\n",
       "\n",
       "    .dataframe thead th {\n",
       "        text-align: right;\n",
       "    }\n",
       "</style>\n",
       "<table border=\"1\" class=\"dataframe\">\n",
       "  <thead>\n",
       "    <tr style=\"text-align: right;\">\n",
       "      <th></th>\n",
       "      <th>PassengerId</th>\n",
       "      <th>Survived</th>\n",
       "      <th>Pclass</th>\n",
       "      <th>Name</th>\n",
       "      <th>Sex</th>\n",
       "      <th>Age</th>\n",
       "      <th>SibSp</th>\n",
       "      <th>Parch</th>\n",
       "      <th>Ticket</th>\n",
       "      <th>Fare</th>\n",
       "      <th>Cabin</th>\n",
       "      <th>Embarked</th>\n",
       "    </tr>\n",
       "  </thead>\n",
       "  <tbody>\n",
       "    <tr>\n",
       "      <th>0</th>\n",
       "      <td>1</td>\n",
       "      <td>0</td>\n",
       "      <td>3</td>\n",
       "      <td>Braund, Mr. Owen Harris</td>\n",
       "      <td>male</td>\n",
       "      <td>22.0</td>\n",
       "      <td>1</td>\n",
       "      <td>0</td>\n",
       "      <td>A/5 21171</td>\n",
       "      <td>7.2500</td>\n",
       "      <td>NaN</td>\n",
       "      <td>S</td>\n",
       "    </tr>\n",
       "    <tr>\n",
       "      <th>1</th>\n",
       "      <td>2</td>\n",
       "      <td>1</td>\n",
       "      <td>1</td>\n",
       "      <td>Cumings, Mrs. John Bradley (Florence Briggs Th...</td>\n",
       "      <td>female</td>\n",
       "      <td>38.0</td>\n",
       "      <td>1</td>\n",
       "      <td>0</td>\n",
       "      <td>PC 17599</td>\n",
       "      <td>71.2833</td>\n",
       "      <td>C85</td>\n",
       "      <td>C</td>\n",
       "    </tr>\n",
       "    <tr>\n",
       "      <th>2</th>\n",
       "      <td>3</td>\n",
       "      <td>1</td>\n",
       "      <td>3</td>\n",
       "      <td>Heikkinen, Miss. Laina</td>\n",
       "      <td>female</td>\n",
       "      <td>26.0</td>\n",
       "      <td>0</td>\n",
       "      <td>0</td>\n",
       "      <td>STON/O2. 3101282</td>\n",
       "      <td>7.9250</td>\n",
       "      <td>NaN</td>\n",
       "      <td>S</td>\n",
       "    </tr>\n",
       "    <tr>\n",
       "      <th>3</th>\n",
       "      <td>4</td>\n",
       "      <td>1</td>\n",
       "      <td>1</td>\n",
       "      <td>Futrelle, Mrs. Jacques Heath (Lily May Peel)</td>\n",
       "      <td>female</td>\n",
       "      <td>35.0</td>\n",
       "      <td>1</td>\n",
       "      <td>0</td>\n",
       "      <td>113803</td>\n",
       "      <td>53.1000</td>\n",
       "      <td>C123</td>\n",
       "      <td>S</td>\n",
       "    </tr>\n",
       "    <tr>\n",
       "      <th>4</th>\n",
       "      <td>5</td>\n",
       "      <td>0</td>\n",
       "      <td>3</td>\n",
       "      <td>Allen, Mr. William Henry</td>\n",
       "      <td>male</td>\n",
       "      <td>35.0</td>\n",
       "      <td>0</td>\n",
       "      <td>0</td>\n",
       "      <td>373450</td>\n",
       "      <td>8.0500</td>\n",
       "      <td>NaN</td>\n",
       "      <td>S</td>\n",
       "    </tr>\n",
       "  </tbody>\n",
       "</table>\n",
       "</div>"
      ],
      "text/plain": [
       "   PassengerId  Survived  Pclass  \\\n",
       "0            1         0       3   \n",
       "1            2         1       1   \n",
       "2            3         1       3   \n",
       "3            4         1       1   \n",
       "4            5         0       3   \n",
       "\n",
       "                                                Name     Sex   Age  SibSp  \\\n",
       "0                            Braund, Mr. Owen Harris    male  22.0      1   \n",
       "1  Cumings, Mrs. John Bradley (Florence Briggs Th...  female  38.0      1   \n",
       "2                             Heikkinen, Miss. Laina  female  26.0      0   \n",
       "3       Futrelle, Mrs. Jacques Heath (Lily May Peel)  female  35.0      1   \n",
       "4                           Allen, Mr. William Henry    male  35.0      0   \n",
       "\n",
       "   Parch            Ticket     Fare Cabin Embarked  \n",
       "0      0         A/5 21171   7.2500   NaN        S  \n",
       "1      0          PC 17599  71.2833   C85        C  \n",
       "2      0  STON/O2. 3101282   7.9250   NaN        S  \n",
       "3      0            113803  53.1000  C123        S  \n",
       "4      0            373450   8.0500   NaN        S  "
      ]
     },
     "execution_count": 16,
     "metadata": {},
     "output_type": "execute_result"
    }
   ],
   "source": [
    "train_data.head()"
   ]
  },
  {
   "cell_type": "code",
   "execution_count": null,
   "id": "1dfbc14a-3f0c-410e-95d7-2b1bfe60802e",
   "metadata": {},
   "outputs": [],
   "source": [
    "查看不同类别分出来的存活人数"
   ]
  },
  {
   "cell_type": "code",
   "execution_count": 18,
   "id": "8869b5f7-430a-471f-a2ba-12891b848886",
   "metadata": {},
   "outputs": [
    {
     "data": {
      "image/png": "[encoded data removed]",
      "text/plain": [
       "<Figure size 640x480 with 1 Axes>"
      ]
     },
     "metadata": {},
     "output_type": "display_data"
    },
    {
     "data": {
      "image/png": "[encoded data removed]",
      "text/plain": [
       "<Figure size 640x480 with 1 Axes>"
      ]
     },
     "metadata": {},
     "output_type": "display_data"
    },
    {
     "data": {
      "image/png": "[encoded data removed]",
      "text/plain": [
       "<Figure size 640x480 with 1 Axes>"
      ]
     },
     "metadata": {},
     "output_type": "display_data"
    }
   ],
   "source": [
    "import seaborn as sns\n",
    "import matplotlib.pyplot as plt\n",
    "\n",
    "sns.countplot(x=\"Survived\",data = train_data)\n",
    "plt.show()\n",
    "\n",
    "sns.countplot(x=\"Sex\",hue=\"Survived\",data=train_data)\n",
    "plt.show()\n",
    "\n",
    "sns.countplot(x=\"Pclass\",hue=\"Survived\",data=train_data)\n",
    "plt.show()"
   ]
  },
  {
   "cell_type": "code",
   "execution_count": 23,
   "id": "bbc11e35-a031-4e20-ab31-2ca88a960c63",
   "metadata": {},
   "outputs": [
    {
     "data": {
      "text/plain": [
       "Cabin          687\n",
       "Embarked         2\n",
       "Pclass           0\n",
       "Survived         0\n",
       "PassengerId      0\n",
       "Sex              0\n",
       "Name             0\n",
       "Age              0\n",
       "SibSp            0\n",
       "Ticket           0\n",
       "Parch            0\n",
       "Fare             0\n",
       "Has_Cabin        0\n",
       "dtype: int64"
      ]
     },
     "execution_count": 23,
     "metadata": {},
     "output_type": "execute_result"
    }
   ],
   "source": [
    "train_data.isna().sum().sort_values(ascending=False)"
   ]
  },
  {
   "cell_type": "code",
   "execution_count": 25,
   "id": "c0fe2e02-11e7-4a7d-96df-9a0b71721826",
   "metadata": {},
   "outputs": [
    {
     "data": {
      "text/plain": [
       "Cabin          327\n",
       "PassengerId      0\n",
       "Name             0\n",
       "Pclass           0\n",
       "Sex              0\n",
       "Age              0\n",
       "Parch            0\n",
       "SibSp            0\n",
       "Ticket           0\n",
       "Fare             0\n",
       "Embarked         0\n",
       "Has_Cabin        0\n",
       "dtype: int64"
      ]
     },
     "execution_count": 25,
     "metadata": {},
     "output_type": "execute_result"
    }
   ],
   "source": [
    "test_data.isna().sum().sort_values(ascending=False)"
   ]
  },
  {
   "cell_type": "code",
   "execution_count": null,
   "id": "1f33e33d-6994-4923-a669-befb6398f4a7",
   "metadata": {},
   "outputs": [],
   "source": [
    "填充age列的空白值，按照性别船舱等级的中位数来填充\n",
    "填充训练集中的Embarked按照众数填充\n",
    "测试集中的fare列按照众数填充\n",
    "创建新的列has_cabin,填充如果有上船记录就是true,反之就是false"
   ]
  },
  {
   "cell_type": "code",
   "execution_count": 26,
   "id": "beedc777-f1b0-4b6a-9b79-d9ba3fca6bf2",
   "metadata": {},
   "outputs": [],
   "source": [
    "train_data[\"Age\"]=train_data.groupby([\"Sex\",\"Pclass\"])[\"Age\"].transform(lambda x:x.fillna(x.median()))\n",
    "test_data[\"Age\"]=train_data.groupby([\"Sex\",\"Pclass\"])[\"Age\"].transform(lambda x:x.fillna(x.median()))\n",
    "train_data[\"Embarked\"].copy().fillna(train_data[\"Embarked\"].mode()[0], inplace=True)\n",
    "test_data[\"Fare\"] = test_data[\"Fare\"].fillna(test_data[\"Fare\"].median())\n",
    "train_data[\"Has_Cabin\"] = train_data[\"Cabin\"].notnull().astype(int)\n",
    "test_data[\"Has_Cabin\"] = test_data[\"Cabin\"].notnull().astype(int)"
   ]
  },
  {
   "cell_type": "code",
   "execution_count": null,
   "id": "a444bd60-6535-4bdf-a400-95da9180110c",
   "metadata": {},
   "outputs": [],
   "source": [
    "将训练集与测试集中的性别以数值形式映射\n",
    "对训练集和测试集中的embarked列进行独热编码，如果有多个不同的值则以emb为命名头进行命名\n",
    "'''假设 Embarked 列有三个不同的值：C（Cherbourg）、Q（Queenstown）和 S（Southampton），则 pd.get_dummies 会将原来的 Embarked 列拆分为三个新的列：\n",
    "\n",
    "Emb_C：表示 Embarked 是否为 C，如果是 C，则值为 1，否则为 0。\n",
    "\n",
    "Emb_Q：表示 Embarked 是否为 Q，如果是 Q，则值为 1，否则为 0。\n",
    "\n",
    "Emb_S：表示 Embarked 是否为 S，如果是 S，则值为 1，否则为 0。'''"
   ]
  },
  {
   "cell_type": "code",
   "execution_count": 27,
   "id": "1c4e466e-dcf2-4a4a-b3d6-5a16fbadb20e",
   "metadata": {},
   "outputs": [],
   "source": [
    "train_data[\"Sex\"] = train_data[\"Sex\"].map({\"male\": 0, \"female\": 1})\n",
    "test_data[\"Sex\"] = test_data[\"Sex\"].map({\"male\": 0, \"female\": 1})\n",
    "train_data = pd.get_dummies(train_data, columns=[\"Embarked\"], prefix=\"Emb\")\n",
    "test_data = pd.get_dummies(test_data, columns=[\"Embarked\"], prefix=\"Emb\")\n"
   ]
  },
  {
   "cell_type": "code",
   "execution_count": null,
   "id": "462c9f10-769b-4be1-a7d1-9dc1209fa67a",
   "metadata": {},
   "outputs": [],
   "source": [
    "创建新列，统计每个家庭的人数"
   ]
  },
  {
   "cell_type": "code",
   "execution_count": 28,
   "id": "6510229c-3a90-4445-8b8e-169bfaa618c8",
   "metadata": {},
   "outputs": [],
   "source": [
    "train_data[\"FamilySize\"] = train_data[\"SibSp\"] + train_data[\"Parch\"] + 1\n",
    "test_data[\"FamilySize\"] = test_data[\"SibSp\"] + test_data[\"Parch\"] + 1\n"
   ]
  },
  {
   "cell_type": "code",
   "execution_count": null,
   "id": "dc3f2e8e-f9a8-40ff-a0ff-073d034699a7",
   "metadata": {},
   "outputs": [],
   "source": [
    "创建特征集合，删除这几个列\n",
    "创建训练集和训练目标变量数据，创建测试集特征数据"
   ]
  },
  {
   "cell_type": "code",
   "execution_count": 29,
   "id": "a376fbce-7f44-4906-b872-46d1b1bf81b8",
   "metadata": {},
   "outputs": [],
   "source": [
    "features = [\"Pclass\", \"Sex\", \"Age\", \"Fare\", \"FamilySize\", \"Has_Cabin\", \"Emb_C\", \"Emb_Q\", \"Emb_S\"]\n",
    "features.remove(\"Emb_C\")\n",
    "features.remove(\"Emb_Q\")\n",
    "features.remove(\"Emb_S\")\n",
    "features.remove(\"Has_Cabin\")\n",
    "X_train = train_data[features]\n",
    "y_train = train_data['Survived']\n",
    "X_test = test_data[features]"
   ]
  },
  {
   "cell_type": "code",
   "execution_count": null,
   "id": "68918668-2adf-4d9c-b203-b468399ec671",
   "metadata": {},
   "outputs": [],
   "source": [
    "新增特征列，身份\n",
    "创建映射集合并进行填充映射，如果没有就映射0"
   ]
  },
  {
   "cell_type": "code",
   "execution_count": 31,
   "id": "1cfa60c9-e433-47c4-a8ca-161a46ce7896",
   "metadata": {},
   "outputs": [],
   "source": [
    "train_data[\"Title\"] = train_data[\"Name\"].str.extract(r\" ([A-Za-z]+)\\.\", expand=False)\n",
    "test_data[\"Title\"] = test_data[\"Name\"].str.extract(r\" ([A-Za-z]+)\\.\", expand=False)\n",
    "title_mapping = {\n",
    "    \"Mr\": 1, \"Miss\": 2, \"Mrs\": 3, \"Master\": 4,\n",
    "    \"Dr\": 5, \"Rev\": 5, \"Col\": 5, \"Major\": 5, \"Mlle\": 2, \"Ms\": 2, \"Lady\": 6,\n",
    "    \"Countess\": 6, \"Jonkheer\": 6, \"Don\": 6, \"Sir\": 6, \"Capt\": 5, \"Mme\": 3\n",
    "}\n",
    "train_data[\"Title\"] = train_data[\"Title\"].map(title_mapping).fillna(0)\n",
    "test_data[\"Title\"] = test_data[\"Title\"].map(title_mapping).fillna(0)\n",
    "features.append(\"Title\")\n"
   ]
  },
  {
   "cell_type": "code",
   "execution_count": null,
   "id": "388fecb7-3210-4eb1-9bdb-0a035b4a9930",
   "metadata": {},
   "outputs": [],
   "source": [
    "进行标准化（随机森林模型一般不用进行标准化，\t不依赖特征之间的大小关系），这里是因为习惯了"
   ]
  },
  {
   "cell_type": "code",
   "execution_count": 32,
   "id": "43396e50-3784-4c73-88a6-d007fbbcc047",
   "metadata": {},
   "outputs": [],
   "source": [
    "from sklearn.preprocessing import StandardScaler\n",
    "scaler = StandardScaler()\n",
    "X_train.loc[:,[\"Age\",\"Fare\"]] = scaler.fit_transform(X_train[[\"Age\",\"Fare\"]])\n",
    "X_test.loc[:, [\"Age\", \"Fare\"]] = scaler.transform(X_test[[\"Age\", \"Fare\"]])\n"
   ]
  },
  {
   "cell_type": "code",
   "execution_count": null,
   "id": "a88b2065-45f0-4c5f-8063-f3a9fdbe80b9",
   "metadata": {},
   "outputs": [],
   "source": [
    "进行训练树"
   ]
  },
  {
   "cell_type": "code",
   "execution_count": 34,
   "id": "88d6984a-804b-4b68-80da-ca4246cf773c",
   "metadata": {},
   "outputs": [
    {
     "name": "stdout",
     "output_type": "stream",
     "text": [
      "Acurácia média (validação cruzada): 0.828 (+/- 0.086)\n"
     ]
    }
   ],
   "source": [
    "from sklearn.ensemble import RandomForestClassifier\n",
    "from sklearn.model_selection import cross_val_score\n",
    "model = RandomForestClassifier(n_estimators=100,max_depth=5,random_state=42)\n",
    "model.fit(X_train,y_train)\n",
    "scores = cross_val_score(model, X_train, y_train, cv=11)\n",
    "print(f\"Acurácia média (validação cruzada): {scores.mean():.3f} (+/- {scores.std() * 2:.3f})\")\n"
   ]
  },
  {
   "cell_type": "code",
   "execution_count": null,
   "id": "b846bf4c-b405-4caf-909f-5c3f0cad7ce4",
   "metadata": {},
   "outputs": [],
   "source": [
    "GridSearchCV 是一个用于超参数调优（Hyperparameter Tuning）的工具，它会尝试不同的超参数组合，评估模型的性能，并选择最优的超参数设置。\n",
    "具体来说，GridSearchCV 会进行 网格搜索，即对传入的超参数进行穷举，尝试每一种组合，并使用交叉验证来评估模型的表现。\n",
    "cv=5 指定了 交叉验证 (cross-validation) 的折数。这里表示使用 5折交叉验证。交叉验证将数据集划分为 5 个子集，每次训练时使用 4 个子集作为训练集，\n",
    " 1 个子集作为验证集，重复 5 次，以确保评估结果的稳定性。"
   ]
  },
  {
   "cell_type": "code",
   "execution_count": 35,
   "id": "aff5a383-8b53-40e0-9c28-cfaf07d1df52",
   "metadata": {},
   "outputs": [
    {
     "name": "stdout",
     "output_type": "stream",
     "text": [
      "Melhores parâmetros: {'max_depth': 7, 'n_estimators': 200}\n"
     ]
    }
   ],
   "source": [
    "from sklearn.model_selection import GridSearchCV\n",
    "param_grid = {\n",
    "    'n_estimators' : [50,100,200],\n",
    "    'max_depth' :[3,5,7]\n",
    "}\n",
    "grid_search = GridSearchCV(RandomForestClassifier(random_state=42), param_grid, cv=5)\n",
    "grid_search.fit(X_train, y_train)\n",
    "print(f\"Melhores parâmetros: {grid_search.best_params_}\")\n",
    "model = grid_search.best_estimator_\n"
   ]
  },
  {
   "cell_type": "code",
   "execution_count": 37,
   "id": "d152c008-30f3-4bc8-837c-db9f7e483f06",
   "metadata": {},
   "outputs": [
    {
     "name": "stdout",
     "output_type": "stream",
     "text": [
      "Acurácia média (validação cruzada): 0.841 (+/- 0.083)\n"
     ]
    }
   ],
   "source": [
    "scores = cross_val_score(model, X_train, y_train, cv=11)\n",
    "print(f\"Acurácia média (validação cruzada): {scores.mean():.3f} (+/- {scores.std() * 2:.3f})\")"
   ]
  },
  {
   "cell_type": "code",
   "execution_count": 38,
   "id": "9dbc2e47-3e18-49dc-8113-a048251754f8",
   "metadata": {},
   "outputs": [
    {
     "name": "stdout",
     "output_type": "stream",
     "text": [
      "Arquivo de submissão criado: submission.csv\n"
     ]
    }
   ],
   "source": [
    "predictions = model.predict(X_test)\n",
    "submission = pd.DataFrame({\n",
    "    'PassengerId': test_data['PassengerId'],\n",
    "    'Survived': predictions\n",
    "})\n",
    "submission.to_csv('submission.csv', index=False)\n",
    "print(\"Arquivo de submissão criado: submission.csv\")\n"
   ]
  },
  {
   "cell_type": "code",
   "execution_count": null,
   "id": "d5af78b1-318a-4b2c-8a95-641fe585618a",
   "metadata": {},
   "outputs": [],
   "source": []
  }
 ],
 "metadata": {
  "kernelspec": {
   "display_name": "Python 3 (ipykernel)",
   "language": "python",
   "name": "python3"
  },
  "language_info": {
   "codemirror_mode": {
    "name": "ipython",
    "version": 3
   },
   "file_extension": ".py",
   "mimetype": "text/x-python",
   "name": "python",
   "nbconvert_exporter": "python",
   "pygments_lexer": "ipython3",
   "version": "3.13.0"
  }
 },
 "nbformat": 4,
 "nbformat_minor": 5
}
